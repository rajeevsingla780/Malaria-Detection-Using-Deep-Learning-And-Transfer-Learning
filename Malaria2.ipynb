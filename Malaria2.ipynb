{
  "nbformat": 4,
  "nbformat_minor": 0,
  "metadata": {
    "accelerator": "GPU",
    "colab": {
      "name": "Malaria2.ipynb",
      "provenance": []
    },
    "kernelspec": {
      "display_name": "Python 3",
      "name": "python3"
    },
    "language_info": {
      "name": "python"
    }
  },
  "cells": [
    {
      "cell_type": "code",
      "metadata": {
        "id": "tR4yA2Lpe6A1"
      },
      "source": [
        "from tensorflow.keras.layers import Input, Lambda, Dense, Flatten,Conv2D\n",
        "from tensorflow.keras.models import Model\n",
        "from tensorflow.keras.applications.vgg19 import VGG19\n",
        "from tensorflow.keras.applications.resnet50 import preprocess_input\n",
        "from tensorflow.keras.preprocessing import image\n",
        "from tensorflow.keras.preprocessing.image import ImageDataGenerator,load_img\n",
        "from tensorflow.keras.models import Sequential\n",
        "import numpy as np\n",
        "from glob import glob\n",
        "import matplotlib.pyplot as plt"
      ],
      "execution_count": null,
      "outputs": []
    },
    {
      "cell_type": "code",
      "metadata": {
        "id": "9JYJf7P1fvtq"
      },
      "source": [
        "IMAGE_SIZE = [224, 224]"
      ],
      "execution_count": null,
      "outputs": []
    },
    {
      "cell_type": "code",
      "metadata": {
        "colab": {
          "base_uri": "https://localhost:8080/"
        },
        "id": "0xW6j0zxhJiL",
        "outputId": "eef56f35-e16a-4b31-c659-3024679353c7"
      },
      "source": [
        "VGG19 = VGG19(input_shape=IMAGE_SIZE + [3], weights='imagenet', include_top=False)"
      ],
      "execution_count": null,
      "outputs": [
        {
          "output_type": "stream",
          "text": [
            "Downloading data from https://storage.googleapis.com/tensorflow/keras-applications/vgg19/vgg19_weights_tf_dim_ordering_tf_kernels_notop.h5\n",
            "80142336/80134624 [==============================] - 1s 0us/step\n"
          ],
          "name": "stdout"
        }
      ]
    },
    {
      "cell_type": "code",
      "metadata": {
        "colab": {
          "base_uri": "https://localhost:8080/"
        },
        "id": "qYFTwCBthdSX",
        "outputId": "0a037dd6-e68d-471e-fd9f-3cb6b20177ab"
      },
      "source": [
        "VGG19.summary()"
      ],
      "execution_count": null,
      "outputs": [
        {
          "output_type": "stream",
          "text": [
            "Model: \"vgg19\"\n",
            "_________________________________________________________________\n",
            "Layer (type)                 Output Shape              Param #   \n",
            "=================================================================\n",
            "input_1 (InputLayer)         [(None, 224, 224, 3)]     0         \n",
            "_________________________________________________________________\n",
            "block1_conv1 (Conv2D)        (None, 224, 224, 64)      1792      \n",
            "_________________________________________________________________\n",
            "block1_conv2 (Conv2D)        (None, 224, 224, 64)      36928     \n",
            "_________________________________________________________________\n",
            "block1_pool (MaxPooling2D)   (None, 112, 112, 64)      0         \n",
            "_________________________________________________________________\n",
            "block2_conv1 (Conv2D)        (None, 112, 112, 128)     73856     \n",
            "_________________________________________________________________\n",
            "block2_conv2 (Conv2D)        (None, 112, 112, 128)     147584    \n",
            "_________________________________________________________________\n",
            "block2_pool (MaxPooling2D)   (None, 56, 56, 128)       0         \n",
            "_________________________________________________________________\n",
            "block3_conv1 (Conv2D)        (None, 56, 56, 256)       295168    \n",
            "_________________________________________________________________\n",
            "block3_conv2 (Conv2D)        (None, 56, 56, 256)       590080    \n",
            "_________________________________________________________________\n",
            "block3_conv3 (Conv2D)        (None, 56, 56, 256)       590080    \n",
            "_________________________________________________________________\n",
            "block3_conv4 (Conv2D)        (None, 56, 56, 256)       590080    \n",
            "_________________________________________________________________\n",
            "block3_pool (MaxPooling2D)   (None, 28, 28, 256)       0         \n",
            "_________________________________________________________________\n",
            "block4_conv1 (Conv2D)        (None, 28, 28, 512)       1180160   \n",
            "_________________________________________________________________\n",
            "block4_conv2 (Conv2D)        (None, 28, 28, 512)       2359808   \n",
            "_________________________________________________________________\n",
            "block4_conv3 (Conv2D)        (None, 28, 28, 512)       2359808   \n",
            "_________________________________________________________________\n",
            "block4_conv4 (Conv2D)        (None, 28, 28, 512)       2359808   \n",
            "_________________________________________________________________\n",
            "block4_pool (MaxPooling2D)   (None, 14, 14, 512)       0         \n",
            "_________________________________________________________________\n",
            "block5_conv1 (Conv2D)        (None, 14, 14, 512)       2359808   \n",
            "_________________________________________________________________\n",
            "block5_conv2 (Conv2D)        (None, 14, 14, 512)       2359808   \n",
            "_________________________________________________________________\n",
            "block5_conv3 (Conv2D)        (None, 14, 14, 512)       2359808   \n",
            "_________________________________________________________________\n",
            "block5_conv4 (Conv2D)        (None, 14, 14, 512)       2359808   \n",
            "_________________________________________________________________\n",
            "block5_pool (MaxPooling2D)   (None, 7, 7, 512)         0         \n",
            "=================================================================\n",
            "Total params: 20,024,384\n",
            "Trainable params: 20,024,384\n",
            "Non-trainable params: 0\n",
            "_________________________________________________________________\n"
          ],
          "name": "stdout"
        }
      ]
    },
    {
      "cell_type": "code",
      "metadata": {
        "id": "ORz-LPHPiUJX"
      },
      "source": [
        "for layer in VGG19.layers:\n",
        "    layer.trainable = False"
      ],
      "execution_count": null,
      "outputs": []
    },
    {
      "cell_type": "code",
      "metadata": {
        "colab": {
          "base_uri": "https://localhost:8080/"
        },
        "id": "cF0KlHsuiyFn",
        "outputId": "75a895bd-1e60-4cb9-8453-5547140052d2"
      },
      "source": [
        "folders = glob('drive/MyDrive/Dataset/Train/*')\n",
        "folders"
      ],
      "execution_count": null,
      "outputs": [
        {
          "output_type": "execute_result",
          "data": {
            "text/plain": [
              "['drive/MyDrive/Dataset/Train/Uninfected',\n",
              " 'drive/MyDrive/Dataset/Train/Parasite']"
            ]
          },
          "metadata": {
            "tags": []
          },
          "execution_count": 6
        }
      ]
    },
    {
      "cell_type": "code",
      "metadata": {
        "id": "I_ZWUKznjDnH"
      },
      "source": [
        "x=Flatten()(VGG19.output)"
      ],
      "execution_count": null,
      "outputs": []
    },
    {
      "cell_type": "code",
      "metadata": {
        "id": "dR51ZT_Mjm4_"
      },
      "source": [
        "prediction = Dense(len(folders), activation='softmax')(x)\n",
        "model = Model(inputs=VGG19.input, outputs=prediction)"
      ],
      "execution_count": null,
      "outputs": []
    },
    {
      "cell_type": "code",
      "metadata": {
        "colab": {
          "base_uri": "https://localhost:8080/"
        },
        "id": "O6pK7aNTkJjn",
        "outputId": "df250294-ee0c-4906-bd8f-fa0eed3b96cc"
      },
      "source": [
        "model.summary()"
      ],
      "execution_count": null,
      "outputs": [
        {
          "output_type": "stream",
          "text": [
            "Model: \"model\"\n",
            "_________________________________________________________________\n",
            "Layer (type)                 Output Shape              Param #   \n",
            "=================================================================\n",
            "input_1 (InputLayer)         [(None, 224, 224, 3)]     0         \n",
            "_________________________________________________________________\n",
            "block1_conv1 (Conv2D)        (None, 224, 224, 64)      1792      \n",
            "_________________________________________________________________\n",
            "block1_conv2 (Conv2D)        (None, 224, 224, 64)      36928     \n",
            "_________________________________________________________________\n",
            "block1_pool (MaxPooling2D)   (None, 112, 112, 64)      0         \n",
            "_________________________________________________________________\n",
            "block2_conv1 (Conv2D)        (None, 112, 112, 128)     73856     \n",
            "_________________________________________________________________\n",
            "block2_conv2 (Conv2D)        (None, 112, 112, 128)     147584    \n",
            "_________________________________________________________________\n",
            "block2_pool (MaxPooling2D)   (None, 56, 56, 128)       0         \n",
            "_________________________________________________________________\n",
            "block3_conv1 (Conv2D)        (None, 56, 56, 256)       295168    \n",
            "_________________________________________________________________\n",
            "block3_conv2 (Conv2D)        (None, 56, 56, 256)       590080    \n",
            "_________________________________________________________________\n",
            "block3_conv3 (Conv2D)        (None, 56, 56, 256)       590080    \n",
            "_________________________________________________________________\n",
            "block3_conv4 (Conv2D)        (None, 56, 56, 256)       590080    \n",
            "_________________________________________________________________\n",
            "block3_pool (MaxPooling2D)   (None, 28, 28, 256)       0         \n",
            "_________________________________________________________________\n",
            "block4_conv1 (Conv2D)        (None, 28, 28, 512)       1180160   \n",
            "_________________________________________________________________\n",
            "block4_conv2 (Conv2D)        (None, 28, 28, 512)       2359808   \n",
            "_________________________________________________________________\n",
            "block4_conv3 (Conv2D)        (None, 28, 28, 512)       2359808   \n",
            "_________________________________________________________________\n",
            "block4_conv4 (Conv2D)        (None, 28, 28, 512)       2359808   \n",
            "_________________________________________________________________\n",
            "block4_pool (MaxPooling2D)   (None, 14, 14, 512)       0         \n",
            "_________________________________________________________________\n",
            "block5_conv1 (Conv2D)        (None, 14, 14, 512)       2359808   \n",
            "_________________________________________________________________\n",
            "block5_conv2 (Conv2D)        (None, 14, 14, 512)       2359808   \n",
            "_________________________________________________________________\n",
            "block5_conv3 (Conv2D)        (None, 14, 14, 512)       2359808   \n",
            "_________________________________________________________________\n",
            "block5_conv4 (Conv2D)        (None, 14, 14, 512)       2359808   \n",
            "_________________________________________________________________\n",
            "block5_pool (MaxPooling2D)   (None, 7, 7, 512)         0         \n",
            "_________________________________________________________________\n",
            "flatten (Flatten)            (None, 25088)             0         \n",
            "_________________________________________________________________\n",
            "dense (Dense)                (None, 2)                 50178     \n",
            "=================================================================\n",
            "Total params: 20,074,562\n",
            "Trainable params: 50,178\n",
            "Non-trainable params: 20,024,384\n",
            "_________________________________________________________________\n"
          ],
          "name": "stdout"
        }
      ]
    },
    {
      "cell_type": "code",
      "metadata": {
        "id": "euVXY4jAkLCH"
      },
      "source": [
        "model.compile(\n",
        "  loss='categorical_crossentropy',\n",
        "  optimizer='adam',\n",
        "  metrics=['accuracy']\n",
        ")"
      ],
      "execution_count": null,
      "outputs": []
    },
    {
      "cell_type": "code",
      "metadata": {
        "id": "tTT04-ymkhI3"
      },
      "source": [
        "from tensorflow.keras.preprocessing.image import ImageDataGenerator\n",
        "\n",
        "train_datagen = ImageDataGenerator(rescale = 1./255,\n",
        "                                   shear_range = 0.2,\n",
        "                                   zoom_range = 0.2,\n",
        "                                   horizontal_flip = True)\n",
        "\n",
        "test_datagen = ImageDataGenerator(rescale = 1./255)"
      ],
      "execution_count": null,
      "outputs": []
    },
    {
      "cell_type": "code",
      "metadata": {
        "colab": {
          "base_uri": "https://localhost:8080/"
        },
        "id": "Np_RLgAek5Ii",
        "outputId": "793d1212-eb99-414f-d279-e164ce84fe1a"
      },
      "source": [
        "training_set = train_datagen.flow_from_directory('drive/MyDrive/Dataset/Train',\n",
        "                                                 target_size = (224, 224),\n",
        "                                                 batch_size = 32,\n",
        "                                                 class_mode = 'categorical')"
      ],
      "execution_count": null,
      "outputs": [
        {
          "output_type": "stream",
          "text": [
            "Found 416 images belonging to 2 classes.\n"
          ],
          "name": "stdout"
        }
      ]
    },
    {
      "cell_type": "code",
      "metadata": {
        "colab": {
          "base_uri": "https://localhost:8080/"
        },
        "id": "FCkOYh20lHbP",
        "outputId": "3b3607a9-5719-40cb-ed1b-434e9d19124e"
      },
      "source": [
        "test_set = test_datagen.flow_from_directory('drive/MyDrive/Dataset/Test',\n",
        "                                            target_size = (224, 224),\n",
        "                                            batch_size = 32,\n",
        "                                            class_mode = 'categorical')"
      ],
      "execution_count": null,
      "outputs": [
        {
          "output_type": "stream",
          "text": [
            "Found 134 images belonging to 2 classes.\n"
          ],
          "name": "stdout"
        }
      ]
    },
    {
      "cell_type": "code",
      "metadata": {
        "colab": {
          "base_uri": "https://localhost:8080/"
        },
        "id": "Jaye-AzPlZ8f",
        "outputId": "ba24ede3-f369-4037-a040-848da432e354"
      },
      "source": [
        "r = model.fit(\n",
        "  training_set,\n",
        "  validation_data=test_set,\n",
        "  epochs=40,\n",
        "  steps_per_epoch=len(training_set),\n",
        "  validation_steps=len(test_set)\n",
        ")"
      ],
      "execution_count": null,
      "outputs": [
        {
          "output_type": "stream",
          "text": [
            "Epoch 1/40\n",
            "13/13 [==============================] - 6s 465ms/step - loss: 0.0810 - accuracy: 0.9784 - val_loss: 0.2147 - val_accuracy: 0.9030\n",
            "Epoch 2/40\n",
            "13/13 [==============================] - 6s 449ms/step - loss: 0.0646 - accuracy: 0.9832 - val_loss: 0.2384 - val_accuracy: 0.9030\n",
            "Epoch 3/40\n",
            "13/13 [==============================] - 6s 449ms/step - loss: 0.0916 - accuracy: 0.9639 - val_loss: 0.1590 - val_accuracy: 0.9403\n",
            "Epoch 4/40\n",
            "13/13 [==============================] - 6s 453ms/step - loss: 0.0762 - accuracy: 0.9832 - val_loss: 0.2425 - val_accuracy: 0.9030\n",
            "Epoch 5/40\n",
            "13/13 [==============================] - 6s 447ms/step - loss: 0.0739 - accuracy: 0.9784 - val_loss: 0.2009 - val_accuracy: 0.9179\n",
            "Epoch 6/40\n",
            "13/13 [==============================] - 6s 446ms/step - loss: 0.0826 - accuracy: 0.9688 - val_loss: 0.1533 - val_accuracy: 0.9403\n",
            "Epoch 7/40\n",
            "13/13 [==============================] - 6s 443ms/step - loss: 0.0667 - accuracy: 0.9856 - val_loss: 0.1665 - val_accuracy: 0.9403\n",
            "Epoch 8/40\n",
            "13/13 [==============================] - 6s 445ms/step - loss: 0.0772 - accuracy: 0.9856 - val_loss: 0.4221 - val_accuracy: 0.7985\n",
            "Epoch 9/40\n",
            "13/13 [==============================] - 6s 439ms/step - loss: 0.0620 - accuracy: 0.9856 - val_loss: 0.2680 - val_accuracy: 0.8881\n",
            "Epoch 10/40\n",
            "13/13 [==============================] - 6s 439ms/step - loss: 0.0725 - accuracy: 0.9760 - val_loss: 0.2546 - val_accuracy: 0.8881\n",
            "Epoch 11/40\n",
            "13/13 [==============================] - 6s 447ms/step - loss: 0.1094 - accuracy: 0.9471 - val_loss: 0.3151 - val_accuracy: 0.8507\n",
            "Epoch 12/40\n",
            "13/13 [==============================] - 6s 443ms/step - loss: 0.0676 - accuracy: 0.9760 - val_loss: 0.1672 - val_accuracy: 0.9478\n",
            "Epoch 13/40\n",
            "13/13 [==============================] - 6s 445ms/step - loss: 0.0683 - accuracy: 0.9808 - val_loss: 0.3264 - val_accuracy: 0.8507\n",
            "Epoch 14/40\n",
            "13/13 [==============================] - 6s 446ms/step - loss: 0.0720 - accuracy: 0.9808 - val_loss: 0.1808 - val_accuracy: 0.9328\n",
            "Epoch 15/40\n",
            "13/13 [==============================] - 6s 446ms/step - loss: 0.0477 - accuracy: 0.9904 - val_loss: 0.2204 - val_accuracy: 0.9104\n",
            "Epoch 16/40\n",
            "13/13 [==============================] - 6s 445ms/step - loss: 0.0542 - accuracy: 0.9880 - val_loss: 0.1783 - val_accuracy: 0.9403\n",
            "Epoch 17/40\n",
            "13/13 [==============================] - 6s 448ms/step - loss: 0.0559 - accuracy: 0.9832 - val_loss: 0.2510 - val_accuracy: 0.8881\n",
            "Epoch 18/40\n",
            "13/13 [==============================] - 6s 443ms/step - loss: 0.0640 - accuracy: 0.9760 - val_loss: 0.1525 - val_accuracy: 0.9478\n",
            "Epoch 19/40\n",
            "13/13 [==============================] - 6s 448ms/step - loss: 0.0575 - accuracy: 0.9832 - val_loss: 0.2666 - val_accuracy: 0.8806\n",
            "Epoch 20/40\n",
            "13/13 [==============================] - 6s 446ms/step - loss: 0.0562 - accuracy: 0.9880 - val_loss: 0.2292 - val_accuracy: 0.8955\n",
            "Epoch 21/40\n",
            "13/13 [==============================] - 6s 448ms/step - loss: 0.0589 - accuracy: 0.9856 - val_loss: 0.1938 - val_accuracy: 0.9104\n",
            "Epoch 22/40\n",
            "13/13 [==============================] - 6s 451ms/step - loss: 0.0493 - accuracy: 0.9904 - val_loss: 0.1620 - val_accuracy: 0.9328\n",
            "Epoch 23/40\n",
            "13/13 [==============================] - 6s 444ms/step - loss: 0.0407 - accuracy: 0.9952 - val_loss: 0.2051 - val_accuracy: 0.9179\n",
            "Epoch 24/40\n",
            "13/13 [==============================] - 6s 459ms/step - loss: 0.0555 - accuracy: 0.9832 - val_loss: 0.3026 - val_accuracy: 0.8507\n",
            "Epoch 25/40\n",
            "13/13 [==============================] - 6s 449ms/step - loss: 0.0542 - accuracy: 0.9808 - val_loss: 0.2317 - val_accuracy: 0.8955\n",
            "Epoch 26/40\n",
            "13/13 [==============================] - 6s 449ms/step - loss: 0.0354 - accuracy: 0.9976 - val_loss: 0.1628 - val_accuracy: 0.9478\n",
            "Epoch 27/40\n",
            "13/13 [==============================] - 6s 443ms/step - loss: 0.0584 - accuracy: 0.9832 - val_loss: 0.1487 - val_accuracy: 0.9552\n",
            "Epoch 28/40\n",
            "13/13 [==============================] - 6s 445ms/step - loss: 0.0481 - accuracy: 0.9856 - val_loss: 0.3082 - val_accuracy: 0.8433\n",
            "Epoch 29/40\n",
            "13/13 [==============================] - 6s 445ms/step - loss: 0.0488 - accuracy: 0.9904 - val_loss: 0.1867 - val_accuracy: 0.9179\n",
            "Epoch 30/40\n",
            "13/13 [==============================] - 6s 443ms/step - loss: 0.0471 - accuracy: 0.9880 - val_loss: 0.2756 - val_accuracy: 0.8433\n",
            "Epoch 31/40\n",
            "13/13 [==============================] - 6s 444ms/step - loss: 0.0495 - accuracy: 0.9832 - val_loss: 0.2356 - val_accuracy: 0.8955\n",
            "Epoch 32/40\n",
            "13/13 [==============================] - 6s 441ms/step - loss: 0.0408 - accuracy: 0.9904 - val_loss: 0.1632 - val_accuracy: 0.9478\n",
            "Epoch 33/40\n",
            "13/13 [==============================] - 6s 444ms/step - loss: 0.0460 - accuracy: 0.9952 - val_loss: 0.1501 - val_accuracy: 0.9552\n",
            "Epoch 34/40\n",
            "13/13 [==============================] - 6s 455ms/step - loss: 0.0616 - accuracy: 0.9784 - val_loss: 0.2477 - val_accuracy: 0.8806\n",
            "Epoch 35/40\n",
            "13/13 [==============================] - 6s 447ms/step - loss: 0.0540 - accuracy: 0.9832 - val_loss: 0.1597 - val_accuracy: 0.9478\n",
            "Epoch 36/40\n",
            "13/13 [==============================] - 6s 444ms/step - loss: 0.0453 - accuracy: 0.9928 - val_loss: 0.1637 - val_accuracy: 0.9403\n",
            "Epoch 37/40\n",
            "13/13 [==============================] - 6s 442ms/step - loss: 0.0484 - accuracy: 0.9832 - val_loss: 0.4590 - val_accuracy: 0.7985\n",
            "Epoch 38/40\n",
            "13/13 [==============================] - 6s 443ms/step - loss: 0.0389 - accuracy: 0.9952 - val_loss: 0.4242 - val_accuracy: 0.8060\n",
            "Epoch 39/40\n",
            "13/13 [==============================] - 6s 445ms/step - loss: 0.0615 - accuracy: 0.9856 - val_loss: 0.1600 - val_accuracy: 0.9552\n",
            "Epoch 40/40\n",
            "13/13 [==============================] - 6s 447ms/step - loss: 0.0442 - accuracy: 0.9904 - val_loss: 0.1679 - val_accuracy: 0.9403\n"
          ],
          "name": "stdout"
        }
      ]
    },
    {
      "cell_type": "code",
      "metadata": {
        "colab": {
          "base_uri": "https://localhost:8080/",
          "height": 265
        },
        "id": "Z3HmmzhvJTjP",
        "outputId": "d7b1fcc0-2c3a-487d-e2ff-ceea137a4fdd"
      },
      "source": [
        "plt.plot(r.history['accuracy'], label='train acc')\n",
        "plt.plot(r.history['val_accuracy'], label='val acc')\n",
        "plt.legend()\n",
        "plt.show()"
      ],
      "execution_count": null,
      "outputs": [
        {
          "output_type": "display_data",
          "data": {
            "image/png": "[encoded data removed]",
            "text/plain": [
              "<Figure size 432x288 with 1 Axes>"
            ]
          },
          "metadata": {
            "tags": [],
            "needs_background": "light"
          }
        }
      ]
    },
    {
      "cell_type": "code",
      "metadata": {
        "id": "b-u7u_Hdl4fo"
      },
      "source": [
        "from tensorflow.keras.models import load_model\n",
        "\n",
        "model.save('model2_vgg19.h5')"
      ],
      "execution_count": null,
      "outputs": []
    },
    {
      "cell_type": "code",
      "metadata": {
        "id": "9z_FgDVpC-2v"
      },
      "source": [
        "y_pred = model.predict(test_set)"
      ],
      "execution_count": null,
      "outputs": []
    },
    {
      "cell_type": "code",
      "metadata": {
        "colab": {
          "base_uri": "https://localhost:8080/"
        },
        "id": "u_mHtbOFDHaG",
        "outputId": "b9d447d9-2d52-414e-e2f9-cdebff1f4a03"
      },
      "source": [
        "y_pred"
      ],
      "execution_count": null,
      "outputs": [
        {
          "output_type": "execute_result",
          "data": {
            "text/plain": [
              "array([[6.75628781e-02, 9.32437122e-01],\n",
              "       [9.93958592e-01, 6.04141736e-03],\n",
              "       [3.26660872e-02, 9.67333853e-01],\n",
              "       [1.01854250e-01, 8.98145795e-01],\n",
              "       [7.23201707e-02, 9.27679837e-01],\n",
              "       [1.71422735e-02, 9.82857704e-01],\n",
              "       [9.99999762e-01, 1.96878545e-07],\n",
              "       [2.23467238e-02, 9.77653265e-01],\n",
              "       [1.18166227e-02, 9.88183439e-01],\n",
              "       [9.99982715e-01, 1.72710570e-05],\n",
              "       [9.99969721e-01, 3.03376873e-05],\n",
              "       [6.54186964e-01, 3.45813036e-01],\n",
              "       [5.69336593e-01, 4.30663407e-01],\n",
              "       [9.99991894e-01, 8.14119085e-06],\n",
              "       [6.71176672e-01, 3.28823268e-01],\n",
              "       [6.97010234e-02, 9.30298924e-01],\n",
              "       [9.99023080e-01, 9.76898824e-04],\n",
              "       [9.99358118e-01, 6.41876599e-04],\n",
              "       [9.99839425e-01, 1.60493626e-04],\n",
              "       [5.94563484e-01, 4.05436486e-01],\n",
              "       [9.90418613e-01, 9.58137028e-03],\n",
              "       [9.99728620e-01, 2.71346740e-04],\n",
              "       [9.56313968e-01, 4.36860286e-02],\n",
              "       [9.99871731e-01, 1.28270040e-04],\n",
              "       [9.04568076e-01, 9.54318941e-02],\n",
              "       [3.51084257e-03, 9.96489167e-01],\n",
              "       [9.99871254e-01, 1.28703992e-04],\n",
              "       [3.13540548e-02, 9.68645990e-01],\n",
              "       [9.18999493e-01, 8.10005441e-02],\n",
              "       [1.64173860e-02, 9.83582556e-01],\n",
              "       [2.69957967e-02, 9.73004222e-01],\n",
              "       [9.89380717e-01, 1.06192175e-02],\n",
              "       [8.20190161e-02, 9.17980909e-01],\n",
              "       [9.99982595e-01, 1.73476819e-05],\n",
              "       [9.99925017e-01, 7.49770261e-05],\n",
              "       [8.56873453e-01, 1.43126532e-01],\n",
              "       [9.87493575e-01, 1.25063900e-02],\n",
              "       [9.96856332e-01, 3.14370729e-03],\n",
              "       [9.94707346e-01, 5.29262377e-03],\n",
              "       [5.86588234e-02, 9.41341221e-01],\n",
              "       [8.22923064e-01, 1.77076906e-01],\n",
              "       [1.16758514e-02, 9.88324165e-01],\n",
              "       [8.63309801e-01, 1.36690140e-01],\n",
              "       [9.90063727e-01, 9.93629731e-03],\n",
              "       [5.41237518e-02, 9.45876300e-01],\n",
              "       [6.82328641e-01, 3.17671329e-01],\n",
              "       [9.99999881e-01, 6.16592430e-08],\n",
              "       [9.99655962e-01, 3.44059488e-04],\n",
              "       [5.19888960e-02, 9.48011100e-01],\n",
              "       [1.35628767e-02, 9.86437142e-01],\n",
              "       [4.91921961e-01, 5.08078039e-01],\n",
              "       [9.98247027e-01, 1.75303163e-03],\n",
              "       [9.99985337e-01, 1.47188412e-05],\n",
              "       [6.93542302e-01, 3.06457639e-01],\n",
              "       [9.99418616e-01, 5.81459550e-04],\n",
              "       [9.99258220e-01, 7.41708325e-04],\n",
              "       [9.80577350e-01, 1.94225889e-02],\n",
              "       [2.46568229e-02, 9.75343227e-01],\n",
              "       [5.60645938e-01, 4.39354062e-01],\n",
              "       [5.16862832e-02, 9.48313773e-01],\n",
              "       [3.96474972e-02, 9.60352480e-01],\n",
              "       [9.98230159e-01, 1.76987925e-03],\n",
              "       [9.99997377e-01, 2.66541815e-06],\n",
              "       [9.99998927e-01, 1.05635729e-06],\n",
              "       [8.84040475e-01, 1.15959488e-01],\n",
              "       [4.36900914e-01, 5.63099086e-01],\n",
              "       [9.32351410e-01, 6.76486120e-02],\n",
              "       [1.39743974e-02, 9.86025631e-01],\n",
              "       [1.00000000e+00, 3.58142351e-08],\n",
              "       [3.23826782e-02, 9.67617273e-01],\n",
              "       [9.99999881e-01, 1.18623234e-07],\n",
              "       [5.24644442e-02, 9.47535574e-01],\n",
              "       [9.99998093e-01, 1.92363859e-06],\n",
              "       [4.33696881e-02, 9.56630290e-01],\n",
              "       [9.14620087e-02, 9.08538043e-01],\n",
              "       [2.28273738e-02, 9.77172673e-01],\n",
              "       [9.99869227e-01, 1.30811706e-04],\n",
              "       [4.66519296e-01, 5.33480704e-01],\n",
              "       [9.95384037e-01, 4.61592386e-03],\n",
              "       [3.60074453e-02, 9.63992536e-01],\n",
              "       [9.99919534e-01, 8.04420779e-05],\n",
              "       [9.84661520e-01, 1.53385065e-02],\n",
              "       [9.99973297e-01, 2.67306623e-05],\n",
              "       [3.07986699e-02, 9.69201326e-01],\n",
              "       [9.99954224e-01, 4.57729839e-05],\n",
              "       [9.06845450e-01, 9.31545198e-02],\n",
              "       [1.27971321e-01, 8.72028649e-01],\n",
              "       [8.36854458e-01, 1.63145527e-01],\n",
              "       [8.86396646e-01, 1.13603331e-01],\n",
              "       [9.99984026e-01, 1.59713254e-05],\n",
              "       [9.72720802e-01, 2.72792298e-02],\n",
              "       [9.59724903e-01, 4.02750336e-02],\n",
              "       [9.97769713e-01, 2.23027333e-03],\n",
              "       [5.72730303e-01, 4.27269727e-01],\n",
              "       [9.99991894e-01, 8.12547751e-06],\n",
              "       [9.99960065e-01, 3.99143573e-05],\n",
              "       [1.00000000e+00, 4.04495770e-10],\n",
              "       [4.65588532e-02, 9.53441143e-01],\n",
              "       [3.98721173e-02, 9.60127950e-01],\n",
              "       [9.99966264e-01, 3.36874582e-05],\n",
              "       [2.06837356e-02, 9.79316294e-01],\n",
              "       [6.13876641e-01, 3.86123359e-01],\n",
              "       [4.93051074e-02, 9.50694919e-01],\n",
              "       [9.99974608e-01, 2.54236002e-05],\n",
              "       [6.90684021e-02, 9.30931628e-01],\n",
              "       [9.99996305e-01, 3.72663226e-06],\n",
              "       [9.94232118e-01, 5.76783763e-03],\n",
              "       [1.85365885e-01, 8.14634085e-01],\n",
              "       [3.10686193e-02, 9.68931437e-01],\n",
              "       [9.99399543e-01, 6.00429310e-04],\n",
              "       [9.98790920e-01, 1.20905053e-03],\n",
              "       [3.92199576e-01, 6.07800364e-01],\n",
              "       [9.81389344e-01, 1.86105985e-02],\n",
              "       [6.38212800e-01, 3.61787140e-01],\n",
              "       [9.55577612e-01, 4.44223657e-02],\n",
              "       [9.99979019e-01, 2.09614955e-05],\n",
              "       [9.99954700e-01, 4.52454769e-05],\n",
              "       [1.57019824e-01, 8.42980206e-01],\n",
              "       [1.00000000e+00, 2.10530787e-10],\n",
              "       [8.58199894e-01, 1.41800061e-01],\n",
              "       [9.07170832e-01, 9.28291678e-02],\n",
              "       [3.74667137e-03, 9.96253252e-01],\n",
              "       [7.15582892e-02, 9.28441703e-01],\n",
              "       [4.29346740e-01, 5.70653200e-01],\n",
              "       [9.99907494e-01, 9.24697015e-05],\n",
              "       [9.69767928e-01, 3.02320998e-02],\n",
              "       [9.59779501e-01, 4.02205177e-02],\n",
              "       [1.90244243e-01, 8.09755743e-01],\n",
              "       [9.72636759e-01, 2.73632314e-02],\n",
              "       [9.98284638e-01, 1.71530677e-03],\n",
              "       [8.47769260e-01, 1.52230740e-01],\n",
              "       [9.99995470e-01, 4.55252621e-06],\n",
              "       [8.69887412e-01, 1.30112588e-01],\n",
              "       [3.01131517e-01, 6.98868513e-01]], dtype=float32)"
            ]
          },
          "metadata": {
            "tags": []
          },
          "execution_count": 56
        }
      ]
    },
    {
      "cell_type": "code",
      "metadata": {
        "id": "YzZKf2JqDljO"
      },
      "source": [
        "import numpy as np\n",
        "y_pred = np.argmax(y_pred, axis=1)"
      ],
      "execution_count": null,
      "outputs": []
    },
    {
      "cell_type": "code",
      "metadata": {
        "colab": {
          "base_uri": "https://localhost:8080/"
        },
        "id": "vwbz35CNEOKO",
        "outputId": "2619b57f-71cd-43ab-f3bf-99eb7bb2e857"
      },
      "source": [
        "y_pred"
      ],
      "execution_count": null,
      "outputs": [
        {
          "output_type": "execute_result",
          "data": {
            "text/plain": [
              "array([1, 0, 1, 1, 1, 1, 0, 1, 1, 0, 0, 0, 0, 0, 0, 1, 0, 0, 0, 0, 0, 0,\n",
              "       0, 0, 0, 1, 0, 1, 0, 1, 1, 0, 1, 0, 0, 0, 0, 0, 0, 1, 0, 1, 0, 0,\n",
              "       1, 0, 0, 0, 1, 1, 1, 0, 0, 0, 0, 0, 0, 1, 0, 1, 1, 0, 0, 0, 0, 1,\n",
              "       0, 1, 0, 1, 0, 1, 0, 1, 1, 1, 0, 1, 0, 1, 0, 0, 0, 1, 0, 0, 1, 0,\n",
              "       0, 0, 0, 0, 0, 0, 0, 0, 0, 1, 1, 0, 1, 0, 1, 0, 1, 0, 0, 1, 1, 0,\n",
              "       0, 1, 0, 0, 0, 0, 0, 1, 0, 0, 0, 1, 1, 1, 0, 0, 0, 1, 0, 0, 0, 0,\n",
              "       0, 1])"
            ]
          },
          "metadata": {
            "tags": []
          },
          "execution_count": 58
        }
      ]
    },
    {
      "cell_type": "code",
      "metadata": {
        "id": "gVwnHvI2EQ9O"
      },
      "source": [
        "from tensorflow.keras.models import load_model\n",
        "from tensorflow.keras.preprocessing import image"
      ],
      "execution_count": null,
      "outputs": []
    },
    {
      "cell_type": "code",
      "metadata": {
        "id": "iDZRSz2REXbW"
      },
      "source": [
        "model=load_model('model2_vgg19.h5')"
      ],
      "execution_count": null,
      "outputs": []
    },
    {
      "cell_type": "code",
      "metadata": {
        "id": "MGk-xvhgEZ-u"
      },
      "source": [
        "img=image.load_img('/content/drive/MyDrive/Dataset/Test/Uninfected/3.png',target_size=(224,224))"
      ],
      "execution_count": null,
      "outputs": []
    },
    {
      "cell_type": "code",
      "metadata": {
        "colab": {
          "base_uri": "https://localhost:8080/",
          "height": 241
        },
        "id": "og-vaqjCE7hG",
        "outputId": "caf84a0a-6d18-4e05-bfca-2199d1bc618a"
      },
      "source": [
        "img"
      ],
      "execution_count": null,
      "outputs": [
        {
          "output_type": "execute_result",
          "data": {
            "image/png": "[encoded data removed]",
            "text/plain": [
              "<PIL.Image.Image image mode=RGB size=224x224 at 0x7FDCDA297B50>"
            ]
          },
          "metadata": {
            "tags": []
          },
          "execution_count": 97
        }
      ]
    },
    {
      "cell_type": "code",
      "metadata": {
        "colab": {
          "base_uri": "https://localhost:8080/"
        },
        "id": "eVU6GMraFFte",
        "outputId": "b90a2b42-a372-44a4-ca1b-94e4e75174a8"
      },
      "source": [
        "x=image.img_to_array(img)\n",
        "x"
      ],
      "execution_count": null,
      "outputs": [
        {
          "output_type": "execute_result",
          "data": {
            "text/plain": [
              "array([[[0., 0., 0.],\n",
              "        [0., 0., 0.],\n",
              "        [0., 0., 0.],\n",
              "        ...,\n",
              "        [0., 0., 0.],\n",
              "        [0., 0., 0.],\n",
              "        [0., 0., 0.]],\n",
              "\n",
              "       [[0., 0., 0.],\n",
              "        [0., 0., 0.],\n",
              "        [0., 0., 0.],\n",
              "        ...,\n",
              "        [0., 0., 0.],\n",
              "        [0., 0., 0.],\n",
              "        [0., 0., 0.]],\n",
              "\n",
              "       [[0., 0., 0.],\n",
              "        [0., 0., 0.],\n",
              "        [0., 0., 0.],\n",
              "        ...,\n",
              "        [0., 0., 0.],\n",
              "        [0., 0., 0.],\n",
              "        [0., 0., 0.]],\n",
              "\n",
              "       ...,\n",
              "\n",
              "       [[0., 0., 0.],\n",
              "        [0., 0., 0.],\n",
              "        [0., 0., 0.],\n",
              "        ...,\n",
              "        [0., 0., 0.],\n",
              "        [0., 0., 0.],\n",
              "        [0., 0., 0.]],\n",
              "\n",
              "       [[0., 0., 0.],\n",
              "        [0., 0., 0.],\n",
              "        [0., 0., 0.],\n",
              "        ...,\n",
              "        [0., 0., 0.],\n",
              "        [0., 0., 0.],\n",
              "        [0., 0., 0.]],\n",
              "\n",
              "       [[0., 0., 0.],\n",
              "        [0., 0., 0.],\n",
              "        [0., 0., 0.],\n",
              "        ...,\n",
              "        [0., 0., 0.],\n",
              "        [0., 0., 0.],\n",
              "        [0., 0., 0.]]], dtype=float32)"
            ]
          },
          "metadata": {
            "tags": []
          },
          "execution_count": 98
        }
      ]
    },
    {
      "cell_type": "code",
      "metadata": {
        "id": "T3xeNTg5FJ5m",
        "colab": {
          "base_uri": "https://localhost:8080/"
        },
        "outputId": "30d14b02-1730-490c-d06a-b9d24a6018af"
      },
      "source": [
        "x.shape"
      ],
      "execution_count": null,
      "outputs": [
        {
          "output_type": "execute_result",
          "data": {
            "text/plain": [
              "(224, 224, 3)"
            ]
          },
          "metadata": {
            "tags": []
          },
          "execution_count": 99
        }
      ]
    },
    {
      "cell_type": "code",
      "metadata": {
        "id": "SCNzaoJ3FPO2"
      },
      "source": [
        "x=x/255"
      ],
      "execution_count": null,
      "outputs": []
    },
    {
      "cell_type": "code",
      "metadata": {
        "colab": {
          "base_uri": "https://localhost:8080/"
        },
        "id": "TfQslmgIFQ4G",
        "outputId": "0d40b8ac-7d2f-40fe-8ae3-447b5118d22f"
      },
      "source": [
        "x=np.expand_dims(x,axis=0)\n",
        "#img_data=preprocess_input(x)\n",
        "img_data.shape"
      ],
      "execution_count": null,
      "outputs": [
        {
          "output_type": "execute_result",
          "data": {
            "text/plain": [
              "(1, 224, 224, 3)"
            ]
          },
          "metadata": {
            "tags": []
          },
          "execution_count": 101
        }
      ]
    },
    {
      "cell_type": "code",
      "metadata": {
        "colab": {
          "base_uri": "https://localhost:8080/"
        },
        "id": "wari7s4XF0K-",
        "outputId": "b023bfbc-f34e-4c6e-caba-4e11b9ca9b96"
      },
      "source": [
        "model.predict(x)"
      ],
      "execution_count": null,
      "outputs": [
        {
          "output_type": "execute_result",
          "data": {
            "text/plain": [
              "array([[0.18536761, 0.8146324 ]], dtype=float32)"
            ]
          },
          "metadata": {
            "tags": []
          },
          "execution_count": 102
        }
      ]
    },
    {
      "cell_type": "code",
      "metadata": {
        "id": "8wkOucDdF38e"
      },
      "source": [
        "a=np.argmax(model.predict(x), axis=1)"
      ],
      "execution_count": null,
      "outputs": []
    },
    {
      "cell_type": "code",
      "metadata": {
        "colab": {
          "base_uri": "https://localhost:8080/"
        },
        "id": "qcP3KrTRF8C2",
        "outputId": "ac61e7cb-81a8-41ac-d9ff-e9de0a798fb7"
      },
      "source": [
        "if(a==1):\n",
        "    print(\"Uninfected\")\n",
        "else:\n",
        "    print(\"Infected\")"
      ],
      "execution_count": null,
      "outputs": [
        {
          "output_type": "stream",
          "text": [
            "Uninfected\n"
          ],
          "name": "stdout"
        }
      ]
    },
    {
      "cell_type": "code",
      "metadata": {
        "id": "8CC2JRgNF_1G"
      },
      "source": [
        ""
      ],
      "execution_count": null,
      "outputs": []
    }
  ]
}